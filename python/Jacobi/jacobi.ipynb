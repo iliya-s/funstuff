{
 "cells": [
  {
   "cell_type": "markdown",
   "metadata": {},
   "source": [
    "   # Jacobi\n",
    "        by Iliya Sabzevari"
   ]
  },
  {
   "cell_type": "markdown",
   "metadata": {},
   "source": [
    "The Jacobi algorithm is an iterative method to solve a diagonally dominant linear system of equations. Wikipedia does a great outline of the method and I would recommend anyone interested in how it works start there."
   ]
  },
  {
   "cell_type": "code",
   "execution_count": 1,
   "metadata": {},
   "outputs": [],
   "source": [
    "import numpy as np\n",
    "\n",
    "def jacobi(H_func,diag_H,b):\n",
    "\td = len(diag_H)\n",
    "\txguess = np.random.rand(d)\n",
    "\twhile True:\n",
    "\t\tR_x = H_func(xguess) - diag_H*xguess\n",
    "\t\tA = b - R_x\n",
    "\t\tx = A/diag_H\n",
    "\t\tif np.linalg.norm(x-xguess) < 1e-8:\n",
    "\t\t\tbreak\n",
    "\t\txguess = x\n",
    "\treturn x"
   ]
  },
  {
   "cell_type": "markdown",
   "metadata": {},
   "source": [
    "The function was tested with a two dimensional example from the wikipedia page."
   ]
  },
  {
   "cell_type": "code",
   "execution_count": 2,
   "metadata": {},
   "outputs": [
    {
     "name": "stdout",
     "output_type": "stream",
     "text": [
      "[ 7.11111111 -3.22222222]\n"
     ]
    }
   ],
   "source": [
    "#!/usr/bin/env python\n",
    "import numpy as np\n",
    "import jacobi as j\n",
    "\n",
    "b = np.array([11,13],dtype = np.float64)\n",
    "xguess = np.array([1,1],dtype = np.float64)\n",
    "A = np.array([[2,1],[5,7]],dtype = np.float64)\n",
    "\n",
    "def Hessian(v):\n",
    "\treturn np.dot(A,v)\n",
    "\n",
    "\n",
    "x = j.jacobi(Hessian,np.diag(A),b)\n",
    "\n",
    "print(x)"
   ]
  },
  {
   "cell_type": "code",
   "execution_count": null,
   "metadata": {},
   "outputs": [],
   "source": []
  }
 ],
 "metadata": {
  "kernelspec": {
   "display_name": "Python 3",
   "language": "python",
   "name": "python3"
  },
  "language_info": {
   "codemirror_mode": {
    "name": "ipython",
    "version": 3
   },
   "file_extension": ".py",
   "mimetype": "text/x-python",
   "name": "python",
   "nbconvert_exporter": "python",
   "pygments_lexer": "ipython3",
   "version": "3.5.2"
  }
 },
 "nbformat": 4,
 "nbformat_minor": 2
}

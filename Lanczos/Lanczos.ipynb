{
 "cells": [
  {
   "cell_type": "markdown",
   "metadata": {},
   "source": [
    "# Lanczos\n",
    "    by Iliya Sabzevari"
   ]
  },
  {
   "cell_type": "markdown",
   "metadata": {},
   "source": [
    "The Lanczos algorithm is an efficient way to decompose a large, Hermitian/symmetric matrix into a tridiagonal matrix that can then be solved easily. I leave the nuts and bolts of the algorithm to wikipedia which does a great job of outlining the details. The program can be seen below."
   ]
  },
  {
   "cell_type": "code",
   "execution_count": 1,
   "metadata": {},
   "outputs": [],
   "source": [
    "import numpy as np\n",
    "import scipy.linalg\n",
    "\n",
    "def lanczos(H_func,dimension):\n",
    "\tguess = np.random.rand(dimension)\n",
    "\tq0 = np.zeros(dimension)\n",
    "\tq1 = guess/np.linalg.norm(guess)\n",
    "\ta = []\n",
    "\tb = [] \n",
    "\tbeta = 0.\n",
    "\tfor i in range(dimension):\n",
    "\t\tr = H_func(q1) - beta*q0\n",
    "\t\t\n",
    "\t\talpha = np.dot(q1.T,r)\n",
    "\t\tr = r - alpha*q1\n",
    "\t\tbeta = np.linalg.norm(r)\n",
    "\n",
    "\t\tq0 = q1\n",
    "\t\tq1 = r/beta\n",
    "\n",
    "\t\ta.append(alpha)\n",
    "\t\tif i < dimension-1:\n",
    "\t\t\tb.append(beta)\n",
    "\tw,v = scipy.linalg.eigh_tridiagonal(a,b)\n",
    "\tw = np.sort(w)\n",
    "\treturn w[0]\t\t"
   ]
  },
  {
   "cell_type": "markdown",
   "metadata": {},
   "source": [
    "I tested the program on a large, diagonally dominant matrix (the same test I perfromed on the davidson algorithm)"
   ]
  },
  {
   "cell_type": "code",
   "execution_count": 2,
   "metadata": {},
   "outputs": [
    {
     "name": "stdout",
     "output_type": "stream",
     "text": [
      "Lanczos =  0.7825165335918781 : 4.232024669647217 seconds\n",
      "Numpy =  0.7825165335930493 : 14.23384690284729 seconds\n"
     ]
    }
   ],
   "source": [
    "import math\n",
    "import numpy as np\n",
    "import lanczos as L\n",
    "import time\n",
    "\n",
    "#build diagonally dominant Hamiltonian and Direct method function of Hamiltonian\n",
    "n = 1500\n",
    "H = np.zeros((n,n))\n",
    "\n",
    "\n",
    "r = range(n)\t#take diagonal elements to be increasing integer values\n",
    "for i in r:\n",
    "\tH[i,i] = i+1\t#take off diagonal elements to be decreasing in order of magnitude\n",
    "\tfor j in r[(i+1):]:\n",
    "\t\tH[i,j] = (10**(i-j+1))\n",
    "H = (H.T + H)/2\n",
    " \n",
    "def A(v):\t\t#make direct method function\n",
    "\treturn np.dot(H,v)\n",
    "\n",
    "#Lanczos\n",
    "start_Lanczos = time.time()\n",
    " \n",
    "E = L.lanczos(A,n)\n",
    "\n",
    "end_Lanczos = time.time()\n",
    "\n",
    "start_numpy = time.time()\n",
    "\n",
    "print(\"Lanczos = \", E,\":\",end_Lanczos-start_Lanczos, \"seconds\")\n",
    "\n",
    "#Numpy\n",
    "start_numpy = time.time()\n",
    "\n",
    "E,V = np.linalg.eig(H)\n",
    "E = np.sort(E)\n",
    "\n",
    "end_numpy = time.time()\n",
    "\n",
    "print(\"Numpy = \", E[0],\":\",end_numpy-start_numpy,\"seconds\")"
   ]
  },
  {
   "cell_type": "markdown",
   "metadata": {},
   "source": [
    "Pretty good, but not as good as the Davidson algorithm."
   ]
  },
  {
   "cell_type": "code",
   "execution_count": null,
   "metadata": {},
   "outputs": [],
   "source": []
  }
 ],
 "metadata": {
  "kernelspec": {
   "display_name": "Python 3",
   "language": "python",
   "name": "python3"
  },
  "language_info": {
   "codemirror_mode": {
    "name": "ipython",
    "version": 3
   },
   "file_extension": ".py",
   "mimetype": "text/x-python",
   "name": "python",
   "nbconvert_exporter": "python",
   "pygments_lexer": "ipython3",
   "version": "3.5.2"
  }
 },
 "nbformat": 4,
 "nbformat_minor": 2
}

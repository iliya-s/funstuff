{
 "cells": [
  {
   "cell_type": "markdown",
   "metadata": {},
   "source": [
    " # Conjugate Gradient\n",
    "    by Iliya Sabzevari"
   ]
  },
  {
   "cell_type": "markdown",
   "metadata": {},
   "source": [
    "The conjugate gradient algorithm is an iterative way to solve a symmetric, positive-definite linear system of equations. I would give a slight synopsis of the general idea but I think wikipedia already does an excellent job. The program can be seen below."
   ]
  },
  {
   "cell_type": "code",
   "execution_count": 1,
   "metadata": {},
   "outputs": [],
   "source": [
    "import numpy as np\n",
    "import math\n",
    "\n",
    "#Solves Ax = b for x, where A is a real,symmetric, positive-definite matrix\n",
    "#for more infomration about the conjugate gradient algorithm, wikipedia has an excellent write up\n",
    "\n",
    "def conjgrad(Hessian_func,b,xguess):\n",
    "\tx0 = xguess\n",
    "\tr0 = b - Hessian_func(x0)\n",
    "\tp0 = r0\n",
    "\tdotr0 = np.dot(r0.T,r0)\n",
    "\twhile True:\n",
    "\t\tAp = Hessian_func(p0)\n",
    "\t\tpAp = np.dot(p0.T,Ap)\n",
    "\t\ta = dotr0/pAp\n",
    "\t\tx1 = x0 + a*p0\n",
    "\t\tr1 = r0 - a*Ap\n",
    "\t\tdotr1 = np.dot(r1.T,r1)\n",
    "\t\tif math.sqrt(dotr1) < 1e-9:\n",
    "\t\t\tbreak\n",
    "\t\tb = dotr1/dotr0\n",
    "\t\tp1 = r1 + b*p0\n",
    "\n",
    "\t\tx0 = x1\n",
    "\t\tr0 = r1\n",
    "\t\tp0 = p1\n",
    "\t\tdotr0 = dotr1\n",
    "\treturn x1"
   ]
  },
  {
   "cell_type": "markdown",
   "metadata": {},
   "source": [
    "I tested the algorithm with the example given in wikipedia, you can see for yourself it works."
   ]
  },
  {
   "cell_type": "code",
   "execution_count": 3,
   "metadata": {},
   "outputs": [
    {
     "name": "stdout",
     "output_type": "stream",
     "text": [
      "[0.09090909 0.63636364]\n"
     ]
    }
   ],
   "source": [
    "#!/usr/bin/env python\n",
    "import numpy as np\n",
    "import conjgrad as cj\n",
    "\n",
    "b = np.array([1,2],dtype = np.float64)\n",
    "xguess = np.array([0,0],dtype = np.float64)\n",
    "\n",
    "def Hessian(v):\n",
    "\tA = np.array([[4,1],[1,3]],dtype = np.float64)\n",
    "\treturn np.dot(A,v)\n",
    "\n",
    "\n",
    "x = cj.conjgrad(Hessian,b,xguess)\n",
    "\n",
    "print(x)"
   ]
  },
  {
   "cell_type": "code",
   "execution_count": null,
   "metadata": {},
   "outputs": [],
   "source": []
  }
 ],
 "metadata": {
  "kernelspec": {
   "display_name": "Python 3",
   "language": "python",
   "name": "python3"
  },
  "language_info": {
   "codemirror_mode": {
    "name": "ipython",
    "version": 3
   },
   "file_extension": ".py",
   "mimetype": "text/x-python",
   "name": "python",
   "nbconvert_exporter": "python",
   "pygments_lexer": "ipython3",
   "version": "3.5.2"
  }
 },
 "nbformat": 4,
 "nbformat_minor": 2
}

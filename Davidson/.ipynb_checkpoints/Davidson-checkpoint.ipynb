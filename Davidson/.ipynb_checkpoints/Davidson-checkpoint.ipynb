{
 "cells": [
  {
   "cell_type": "markdown",
   "metadata": {},
   "source": [
    "# Davidson Algorithm\n",
    "    by Iliya Sabzevari"
   ]
  },
  {
   "cell_type": "markdown",
   "metadata": {},
   "source": [
    "The Davidson algorithm is an efficent way to find a number of the lowest (or highest) valued eigenvalues of a large, diagonally dominant matrix. The general goal of the algorithm is to solve the eigenvalue problem for the matrix in question in a gradually growing subspace of orthonormal vectors and hope the eigenvector that corresponds to the lowest (or highest) valued eigenvalue exists in the span of this subspace. The main steps are:\n",
    "\n",
    "   1. Guess an orthonormal basis of vectors with dimension greater than the number of eiegenvalues you are solving for\n",
    "   2. Calculate the residue vector and check for convergence. The residue vector is the vector left over after trying to solve the eiegenvalue problem with the guess vectors\n",
    "   3. Calculate the correction vector based on the residue vector and the approximate eigenvalue pairs\n",
    "   4. Add the correction vectors to your orthonormal subspace and repeat starting from step 2\n",
    "    \n",
    "The written function can be seen below.  "
   ]
  },
  {
   "cell_type": "code",
   "execution_count": 1,
   "metadata": {},
   "outputs": [],
   "source": [
    "import math\n",
    "import numpy as np\n",
    "\n",
    "def Davidson(H_func,H_diag,neig):\t#input Direct Method Hamiltonian, Diagonal of Hamiltonian, and number of eigenvalues desired\t\n",
    "\ta = 8\t\t\t\t#number of vectors in initial sample space\n",
    "\ttol = 1e-8\n",
    "\tn = len(H_diag)\n",
    "\tt = np.eye(n,a)\t\t\t#set of test unit vectors in initial sample space\n",
    "\tV = np.zeros((n,a))\t\t#array to store sample space\n",
    "\n",
    "\tfor i in range(a):\t\t#input test vectors into sample space matrix\n",
    "\t\tV[:,i] = t[:,i]\n",
    "\n",
    "\n",
    "\ttheta_old = np.zeros(neig)\t#initialize old and new eigenvalue guesses, \"Theta\"\n",
    "\ttheta_new = np.ones(neig)\n",
    "\n",
    "\tcount = 1\t\t\t#keep track of number of iterations\n",
    "\twhile np.linalg.norm(theta_old-theta_new) > tol:\n",
    "\t\ttheta_old = theta_new\t#step theta\n",
    "\t\tV,R = np.linalg.qr(V)\t#use python's QR decomp. to ensure sample space orthogonality\n",
    "\t\tHV = np.zeros((n,a*count))\n",
    "\t\tfor i in range(a*count):\n",
    "\t\t\tHV[:,i] = H_func(V[:,i])\n",
    "\t\tVHV = np.dot(V[:,:(a*count)].T,HV) #build matrix in subspace\n",
    "\t\ttheta,s = np.linalg.eig(VHV)\t#diagonalize\n",
    "\t\tindex = np.argsort(theta)\t#sort eigenvalues and eigenvectors\n",
    "\t\ttheta = theta[index]\n",
    "\t\ts = s[:,index]\n",
    "\t\tV = np.c_[V,np.zeros((n,a))]\t#grow sample space matrix\n",
    "\t\tfor i in range(a):\t\t#loop through test vectors\n",
    "\t\t\ttest = np.dot(V[:,:(a*count)],s[:,i])\t#change basis of eigenvectors into basis of original matrix\n",
    "\t\t\tr = H_func(test) - theta[i]*test\t#calculate residue vector\n",
    "\t\t\tq = -(1/H_diag[i] - 1/theta[i])*r\t#calculate correction vector\n",
    "\t\t\tV[:,(i+(a*count))] = q\t\t\t#add correction vectors to subspace\n",
    "\t\ttheta_new = theta[:neig]\t\t\t#update guesses to eigenvalues\n",
    "\t\tcount = count + 1\n",
    "\treturn theta_new"
   ]
  },
  {
   "cell_type": "markdown",
   "metadata": {},
   "source": [
    "To test the algorithm, I made a test script that constructed a diagonally dominant matrix and computed the 4 lowest valued eigenvalues and compared the calculation time to the eiegenvalue solver in numpy."
   ]
  },
  {
   "cell_type": "code",
   "execution_count": 6,
   "metadata": {},
   "outputs": [
    {
     "name": "stdout",
     "output_type": "stream",
     "text": [
      "Davidson =  [0.78251653 1.9679405  2.99718315 3.9998414 ] : 0.030191659927368164 seconds\n",
      "Numpy =  [0.78251653 1.9679405  2.99718315 3.9998414 ] : 9.659271717071533 seconds\n"
     ]
    }
   ],
   "source": [
    "import numpy as np\n",
    "import Davidson as D\n",
    "import time\n",
    "\n",
    "#Build diagonally dominant Hamiltonian and Direct method function of Hamiltonian\n",
    "n = 1500\n",
    "H = np.zeros((n,n))\n",
    "\n",
    "\n",
    "r = range(n)\n",
    "for i in r:\n",
    "\tH[i,i] = i+1\t#take diagonal elements to be increasing integer values\n",
    "\tfor j in r[(i+1):]:\t#take off diagonal elements to be decreasing in order of magnitude\n",
    "\t\tH[i,j] = (10**(i-j+1))\n",
    "H = (H.T + H)/2\n",
    " \n",
    "def A(v):\t\t#make direct method function\n",
    "\treturn np.dot(H,v)\n",
    "\n",
    "#Davidson\n",
    "start_davidson = time.time()\n",
    " \n",
    "E = D.Davidson(A,np.diag(H),4)\n",
    "\n",
    "end_davidson = time.time()\n",
    "\n",
    "start_numpy = time.time()\n",
    "\n",
    "print(\"Davidson = \", E,\":\",end_davidson-start_davidson, \"seconds\")\n",
    "\n",
    "#Numpy\n",
    "start_numpy = time.time()\n",
    "\n",
    "E,V = np.linalg.eig(H)\n",
    "E = np.sort(E)\n",
    "\n",
    "end_numpy = time.time()\n",
    "\n",
    "print(\"Numpy = \", E[:4],\":\",end_numpy - start_numpy, \"seconds\")"
   ]
  },
  {
   "cell_type": "markdown",
   "metadata": {},
   "source": [
    "Running on the virtual machine on my personal computer, the Davidson algorithm calculated the 4 lowest eigenvalues of a 1500x1500 diagonally dominant matrix with a high degree of accuracy in almost 0.03 seconds, compared to numpy in almost 10. Not to bad (if you ignore the fact numpy calculated the entire eigenvalue spectrum)."
   ]
  },
  {
   "cell_type": "code",
   "execution_count": null,
   "metadata": {},
   "outputs": [],
   "source": []
  }
 ],
 "metadata": {
  "kernelspec": {
   "display_name": "Python 3",
   "language": "python",
   "name": "python3"
  },
  "language_info": {
   "codemirror_mode": {
    "name": "ipython",
    "version": 3
   },
   "file_extension": ".py",
   "mimetype": "text/x-python",
   "name": "python",
   "nbconvert_exporter": "python",
   "pygments_lexer": "ipython3",
   "version": "3.6.5"
  }
 },
 "nbformat": 4,
 "nbformat_minor": 2
}
